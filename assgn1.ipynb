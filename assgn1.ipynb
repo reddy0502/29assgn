{
 "cells": [
  {
   "cell_type": "markdown",
   "id": "b714901f-4188-4cd2-a4fd-ef1284882d18",
   "metadata": {},
   "source": [
    "ans1:\n",
    "     python programming was developed by guido van rossum."
   ]
  },
  {
   "cell_type": "markdown",
   "id": "24b52c66-ea11-4dfd-b3ee-6b71446a35f1",
   "metadata": {},
   "source": [
    "ans2:\n",
    "     python programming supports object oriented programming and functional ,structural programming."
   ]
  },
  {
   "cell_type": "code",
   "execution_count": null,
   "id": "2237d495-5487-428f-828d-2c552d0c2f4f",
   "metadata": {},
   "outputs": [],
   "source": [
    "ans3:\n",
    "    yes,python is case sensitive language.It treats uper case and lower case differently."
   ]
  },
  {
   "cell_type": "markdown",
   "id": "9c9a98f7-b280-4560-89cf-aee4024448bb",
   "metadata": {},
   "source": [
    "ans4:\n",
    "    .py is the correct extension of the python file."
   ]
  },
  {
   "cell_type": "code",
   "execution_count": null,
   "id": "53bfed35-cbe5-4ddc-8881-42b66631d6e1",
   "metadata": {},
   "outputs": [],
   "source": [
    "ans5:\n",
    "    python is an interpreted language."
   ]
  },
  {
   "cell_type": "markdown",
   "id": "ea2cf217-d3ad-46d1-903a-e1997525d2c7",
   "metadata": {},
   "source": [
    "ans6:\n",
    "    indentation is used to define a block of code in python."
   ]
  },
  {
   "cell_type": "markdown",
   "id": "4df0f1a7-c27c-4513-8584-95f9c3792226",
   "metadata": {},
   "source": [
    "ans7:\n",
    "    # is used for single line comment in python."
   ]
  },
  {
   "cell_type": "markdown",
   "id": "5e4c2edc-de2a-409e-b5c8-a2a4fe361f32",
   "metadata": {},
   "source": [
    "ans8:\n",
    "    sys.version method\n",
    "    python_version()function."
   ]
  },
  {
   "cell_type": "markdown",
   "id": "6c898c99-8eca-478c-aca3-bc106e011044",
   "metadata": {},
   "source": [
    "ans9:\n",
    "    python supports the creation of anonymous functions at run time,using a construct called 'lambda functions' or 'lambda expressions'."
   ]
  },
  {
   "cell_type": "markdown",
   "id": "a822e117-4d83-4bc1-b4b6-111ec076484b",
   "metadata": {},
   "source": [
    "ans10:  PIP stands for \"Pip Installs Packages\". It is a package manager for Python that is used to install and manage software packages written in             Python. PIP makes it easy to download and install third-party libraries and modules, which are essential components of many Python \n",
    "        applications."
   ]
  },
  {
   "cell_type": "markdown",
   "id": "90a630a8-aeee-4fae-bf18-46e9087342c8",
   "metadata": {},
   "source": [
    "ans11: print(): This function is used to display output to the console.\n",
    "\n",
    "      input(): This function is used to take user input from the console.\n",
    "\n",
    "       len(): This function is used to get the length of an object like a string, list, or tuple.\n",
    "\n",
    "      type(): This function is used to get the data type of an object.\n",
    "\n",
    "      range(): This function is used to create a range of numbers.\n",
    "\n",
    "      int(): This function is used to convert a string or float to an integer.\n",
    " \n",
    "     float(): This function is used to convert a string or integer to a float.\n",
    "\n",
    "     str(): This function is used to convert an object to a string.\n",
    "\n"
   ]
  },
  {
   "cell_type": "markdown",
   "id": "c7180a22-259d-4f80-8a36-b1e35930607d",
   "metadata": {},
   "source": [
    "ans12:\n",
    "      In python,the maximum possible length of an identifier is technically unlimited.however,it is recommended to keep an identifier names relatively      short and descriptive."
   ]
  },
  {
   "cell_type": "markdown",
   "id": "62099f0c-dca5-45f2-ab85-24b0ea10eeab",
   "metadata": {},
   "source": [
    "ans16:\n",
    "       Yes, indentation is required in Python. Python uses indentation to define the block of code inside a loop, function, class, or other constructs  that require grouping of statements. The indentation level must be consistent within each block of code."
   ]
  },
  {
   "cell_type": "markdown",
   "id": "c6a426ad-9756-457f-a465-917632863a73",
   "metadata": {},
   "source": [
    "ans13:\n",
    "      some of the key advantages of python language are:\n",
    "      Easy to Learn\n",
    "      Large Community and Support\n",
    "      Versatile\n",
    "      Cross-Platform\n",
    "      Libraries and Frameworks\n",
    "      portable\n",
    "      "
   ]
  },
  {
   "cell_type": "markdown",
   "id": "a6797947-e7b3-402e-a95b-13b17dcf76bb",
   "metadata": {},
   "source": [
    "ans14:\n",
    "      Memory management in python is handled automatically by the python interpreter."
   ]
  },
  {
   "cell_type": "markdown",
   "id": "34e85547-1a17-4cb5-9572-eb58f661987c",
   "metadata": {},
   "source": [
    "ans15:\n",
    "     Go to the official website and download the latest version of python for windows.\n",
    "     run the downloaded installer.make sure to select the option to add pyhton to your system path during the instaalation process.\n",
    "     once the installation is complete .open the command prompt and type python.if python has been installed correctly ypu should be able to see the \n",
    "     python interactive shell open up."
   ]
  },
  {
   "cell_type": "markdown",
   "id": "d6b02b29-f0de-4306-b6a4-827d6e7e5562",
   "metadata": {},
   "source": [
    "ans16:\n",
    "      Yes, indentation is required in Python. Python uses indentation to define the block of code inside a loop, function, class, or other constructs that require grouping of statements. The indentation level must be consistent within each block of code."
   ]
  }
 ],
 "metadata": {
  "kernelspec": {
   "display_name": "Python 3 (ipykernel)",
   "language": "python",
   "name": "python3"
  },
  "language_info": {
   "codemirror_mode": {
    "name": "ipython",
    "version": 3
   },
   "file_extension": ".py",
   "mimetype": "text/x-python",
   "name": "python",
   "nbconvert_exporter": "python",
   "pygments_lexer": "ipython3",
   "version": "3.10.8"
  }
 },
 "nbformat": 4,
 "nbformat_minor": 5
}
